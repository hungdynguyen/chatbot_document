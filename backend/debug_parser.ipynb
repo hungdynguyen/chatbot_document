{
 "cells": [
  {
   "cell_type": "code",
   "execution_count": null,
   "id": "91aaa132",
   "metadata": {},
   "outputs": [],
   "source": [
    "# file: debug_parser.py\n",
    "from utils.document_parser import DocumentParser\n",
    "import json\n",
    "\n",
    "if __name__ == \"__main__\":\n",
    "    # KHỞI TẠO PARSER\n",
    "    parser = DocumentParser()\n",
    "\n",
    "    # CHỈ ĐỊNH FILE CẦN KIỂM TRA\n",
    "    # Thay đổi thành đường dẫn chính xác đến file Excel/Word/PDF của bạn\n",
    "    file_to_debug = \"/mnt/d/Techcombank_/chatbot_document/data/data_real/MB01-HD.SPDN_43 - Hỗ Trợ Phân Nhóm Khách Hàng (1).xlsx\" \n",
    "\n",
    "    print(f\"--- Bắt đầu parse file: {file_to_debug} ---\")\n",
    "    documents = parser.parse_file(file_to_debug)\n",
    "\n",
    "    # LƯU KẾT QUẢ PARSE RA FILE JSON ĐỂ KIỂM TRA\n",
    "    output_path = \"debug_output.json\"\n",
    "    with open(output_path, \"w\", encoding=\"utf-8\") as f:\n",
    "        json.dump([doc.dict() for doc in documents], f, ensure_ascii=False, indent=2)\n",
    "        \n",
    "    print(f\"\\n--- Kết quả ---\")\n",
    "    print(f\"Tổng số 'chunks' (documents) đã tạo: {len(documents)}\")\n",
    "    print(f\"Kết quả đã được lưu vào file: {output_path}\")\n",
    "\n",
    "    # Tự động kiểm tra một vài từ khóa\n",
    "    print(\"\\n--- Tự động kiểm tra sự tồn tại của dữ liệu ---\")\n",
    "    full_text_content = \"\".join([doc.page_content for doc in documents])\n",
    "    \n",
    "    test_keywords = [\"MM\", \"Aa3\", \"CAG\", \"0101442420\", \"Đào Công Duy\"]\n",
    "    for keyword in test_keywords:\n",
    "        if keyword in full_text_content:\n",
    "            print(f\"✅ Tìm thấy từ khóa '{keyword}' trong nội dung đã parse.\")\n",
    "        else:\n",
    "            print(f\"❌ KHÔNG tìm thấy từ khóa '{keyword}' trong nội dung đã parse.\")"
   ]
  },
  {
   "cell_type": "code",
   "execution_count": null,
   "id": "8bb5a81d",
   "metadata": {},
   "outputs": [],
   "source": []
  },
  {
   "cell_type": "code",
   "execution_count": null,
   "id": "0a0926af",
   "metadata": {},
   "outputs": [],
   "source": []
  }
 ],
 "metadata": {
  "kernelspec": {
   "display_name": "venv",
   "language": "python",
   "name": "python3"
  },
  "language_info": {
   "name": "python",
   "version": "3.12.3"
  }
 },
 "nbformat": 4,
 "nbformat_minor": 5
}
