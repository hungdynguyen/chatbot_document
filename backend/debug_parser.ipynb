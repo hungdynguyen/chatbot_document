{
 "cells": [
  {
   "cell_type": "code",
   "execution_count": 5,
   "id": "91aaa132",
   "metadata": {},
   "outputs": [
    {
     "name": "stdout",
     "output_type": "stream",
     "text": [
      "--- Bắt đầu parse file: /mnt/d/Techcombank_/chatbot_document/data/data_real/DN HMTD CAG 2024 (1).docx ---\n",
      "\n",
      "--- Kết quả ---\n",
      "Tổng số 'chunks' (documents) đã tạo: 58\n",
      "Kết quả đã được lưu vào file: debug_word_output.json\n",
      "\n",
      "--- Tự động kiểm tra nội dung bảng ---\n",
      "❌ KHÔNG tìm thấy từ khóa header: 'Tên thành viên góp vốn'\n",
      "❌ KHÔNG tìm thấy từ khóa header: 'Tỷ lệ vốn góp'\n",
      "✅ Tìm thấy từ khóa header: 'Chức vụ'\n",
      "\n",
      "=> Kết luận: LỖI NGHIÊM TRỌNG! Bảng Ban lãnh đạo đã KHÔNG được parse. Vấn đề nằm ở hàm `parse_word`.\n"
     ]
    },
    {
     "name": "stderr",
     "output_type": "stream",
     "text": [
      "/tmp/ipykernel_28110/1173594892.py:17: PydanticDeprecatedSince20: The `dict` method is deprecated; use `model_dump` instead. Deprecated in Pydantic V2.0 to be removed in V3.0. See Pydantic V2 Migration Guide at https://errors.pydantic.dev/2.10/migration/\n",
      "  json.dump([doc.dict() for doc in documents], f, ensure_ascii=False, indent=2)\n"
     ]
    }
   ],
   "source": [
    "# file: debug_word_parser.py\n",
    "from utils.document_parser import DocumentParser\n",
    "import json\n",
    "\n",
    "if __name__ == \"__main__\":\n",
    "    parser = DocumentParser()\n",
    "\n",
    "    # CHỈ ĐỊNH ĐÚNG ĐƯỜNG DẪN FILE CẦN KIỂM TRA\n",
    "    file_to_debug = \"/mnt/d/Techcombank_/chatbot_document/data/data_real/DN HMTD CAG 2024 (1).docx\"\n",
    "\n",
    "    print(f\"--- Bắt đầu parse file: {file_to_debug} ---\")\n",
    "    documents = parser.parse_file(file_to_debug)\n",
    "\n",
    "    output_path = \"debug_word_output.json\"\n",
    "    with open(output_path, \"w\", encoding=\"utf-8\") as f:\n",
    "        # Chuyển đổi đối tượng Document thành dictionary để lưu JSON\n",
    "        json.dump([doc.dict() for doc in documents], f, ensure_ascii=False, indent=2)\n",
    "\n",
    "    print(f\"\\n--- Kết quả ---\")\n",
    "    print(f\"Tổng số 'chunks' (documents) đã tạo: {len(documents)}\")\n",
    "    print(f\"Kết quả đã được lưu vào file: {output_path}\")\n",
    "\n",
    "    print(\"\\n--- Tự động kiểm tra nội dung bảng ---\")\n",
    "    full_text_content = \"\".join([doc.page_content for doc in documents])\n",
    "    \n",
    "    # Các từ khóa PHẢI có nếu bảng được parse đúng\n",
    "    table_keywords = [\"Tên thành viên góp vốn\", \"Tỷ lệ vốn góp\", \"Chức vụ\"]\n",
    "    found_count = 0\n",
    "    for keyword in table_keywords:\n",
    "        if keyword in full_text_content:\n",
    "            print(f\"✅ Tìm thấy từ khóa header: '{keyword}'\")\n",
    "            found_count += 1\n",
    "        else:\n",
    "            print(f\"❌ KHÔNG tìm thấy từ khóa header: '{keyword}'\")\n",
    "            \n",
    "    if found_count == len(table_keywords):\n",
    "        print(\"\\n=> Kết luận: CÓ VẺ Bảng đã được parse. Hãy kiểm tra file 'debug_word_output.json' để xem nội dung chi tiết.\")\n",
    "    else:\n",
    "        print(\"\\n=> Kết luận: LỖI NGHIÊM TRỌNG! Bảng Ban lãnh đạo đã KHÔNG được parse. Vấn đề nằm ở hàm `parse_word`.\")"
   ]
  },
  {
   "cell_type": "code",
   "execution_count": null,
   "id": "8bb5a81d",
   "metadata": {},
   "outputs": [],
   "source": []
  },
  {
   "cell_type": "code",
   "execution_count": null,
   "id": "0a0926af",
   "metadata": {},
   "outputs": [],
   "source": []
  }
 ],
 "metadata": {
  "kernelspec": {
   "display_name": "venv",
   "language": "python",
   "name": "python3"
  },
  "language_info": {
   "codemirror_mode": {
    "name": "ipython",
    "version": 3
   },
   "file_extension": ".py",
   "mimetype": "text/x-python",
   "name": "python",
   "nbconvert_exporter": "python",
   "pygments_lexer": "ipython3",
   "version": "3.12.3"
  }
 },
 "nbformat": 4,
 "nbformat_minor": 5
}
